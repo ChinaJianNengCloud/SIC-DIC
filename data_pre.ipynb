{
 "cells": [
  {
   "cell_type": "code",
   "execution_count": 1,
   "metadata": {},
   "outputs": [],
   "source": [
    "import pandas as pd\n",
    "import os"
   ]
  },
  {
   "cell_type": "code",
   "execution_count": 2,
   "metadata": {},
   "outputs": [
    {
     "data": {
      "text/html": [
       "<div>\n",
       "<style scoped>\n",
       "    .dataframe tbody tr th:only-of-type {\n",
       "        vertical-align: middle;\n",
       "    }\n",
       "\n",
       "    .dataframe tbody tr th {\n",
       "        vertical-align: top;\n",
       "    }\n",
       "\n",
       "    .dataframe thead th {\n",
       "        text-align: right;\n",
       "    }\n",
       "</style>\n",
       "<table border=\"1\" class=\"dataframe\">\n",
       "  <thead>\n",
       "    <tr style=\"text-align: right;\">\n",
       "      <th></th>\n",
       "      <th>stay_id</th>\n",
       "      <th>sofa_score</th>\n",
       "      <th>age</th>\n",
       "      <th>los</th>\n",
       "      <th>gender</th>\n",
       "      <th>scr_min</th>\n",
       "      <th>mdrd_est</th>\n",
       "      <th>scr_baseline</th>\n",
       "      <th>alt_min</th>\n",
       "      <th>alp_min</th>\n",
       "      <th>...</th>\n",
       "      <th>bicarbonate_min</th>\n",
       "      <th>bun_max</th>\n",
       "      <th>chloride_max</th>\n",
       "      <th>heart_rate_max</th>\n",
       "      <th>resp_rate_max</th>\n",
       "      <th>sbp_min</th>\n",
       "      <th>dbp_min</th>\n",
       "      <th>mbp_min</th>\n",
       "      <th>sic</th>\n",
       "      <th>dic</th>\n",
       "    </tr>\n",
       "  </thead>\n",
       "  <tbody>\n",
       "    <tr>\n",
       "      <th>0</th>\n",
       "      <td>34216106</td>\n",
       "      <td>2</td>\n",
       "      <td>59</td>\n",
       "      <td>2.127222</td>\n",
       "      <td>1</td>\n",
       "      <td>0.6</td>\n",
       "      <td>1.071318</td>\n",
       "      <td>0.6</td>\n",
       "      <td>NaN</td>\n",
       "      <td>NaN</td>\n",
       "      <td>...</td>\n",
       "      <td>25.0</td>\n",
       "      <td>10</td>\n",
       "      <td>110.0</td>\n",
       "      <td>112.0</td>\n",
       "      <td>29.0</td>\n",
       "      <td>82.5</td>\n",
       "      <td>30.5</td>\n",
       "      <td>55.5</td>\n",
       "      <td>1</td>\n",
       "      <td>0</td>\n",
       "    </tr>\n",
       "    <tr>\n",
       "      <th>1</th>\n",
       "      <td>30150318</td>\n",
       "      <td>4</td>\n",
       "      <td>84</td>\n",
       "      <td>3.806713</td>\n",
       "      <td>0</td>\n",
       "      <td>0.9</td>\n",
       "      <td>0.789202</td>\n",
       "      <td>0.9</td>\n",
       "      <td>72.0</td>\n",
       "      <td>40.0</td>\n",
       "      <td>...</td>\n",
       "      <td>19.0</td>\n",
       "      <td>40</td>\n",
       "      <td>106.0</td>\n",
       "      <td>118.0</td>\n",
       "      <td>27.0</td>\n",
       "      <td>92.0</td>\n",
       "      <td>41.0</td>\n",
       "      <td>58.0</td>\n",
       "      <td>1</td>\n",
       "      <td>0</td>\n",
       "    </tr>\n",
       "    <tr>\n",
       "      <th>2</th>\n",
       "      <td>36105458</td>\n",
       "      <td>2</td>\n",
       "      <td>53</td>\n",
       "      <td>25.045949</td>\n",
       "      <td>1</td>\n",
       "      <td>0.7</td>\n",
       "      <td>1.093380</td>\n",
       "      <td>0.7</td>\n",
       "      <td>21.0</td>\n",
       "      <td>57.0</td>\n",
       "      <td>...</td>\n",
       "      <td>17.0</td>\n",
       "      <td>14</td>\n",
       "      <td>113.0</td>\n",
       "      <td>112.0</td>\n",
       "      <td>29.0</td>\n",
       "      <td>87.0</td>\n",
       "      <td>54.0</td>\n",
       "      <td>67.0</td>\n",
       "      <td>1</td>\n",
       "      <td>0</td>\n",
       "    </tr>\n",
       "    <tr>\n",
       "      <th>3</th>\n",
       "      <td>33668510</td>\n",
       "      <td>3</td>\n",
       "      <td>83</td>\n",
       "      <td>3.078576</td>\n",
       "      <td>1</td>\n",
       "      <td>0.8</td>\n",
       "      <td>1.010712</td>\n",
       "      <td>0.8</td>\n",
       "      <td>NaN</td>\n",
       "      <td>NaN</td>\n",
       "      <td>...</td>\n",
       "      <td>22.0</td>\n",
       "      <td>30</td>\n",
       "      <td>107.0</td>\n",
       "      <td>108.0</td>\n",
       "      <td>37.0</td>\n",
       "      <td>71.0</td>\n",
       "      <td>31.0</td>\n",
       "      <td>49.0</td>\n",
       "      <td>1</td>\n",
       "      <td>0</td>\n",
       "    </tr>\n",
       "    <tr>\n",
       "      <th>4</th>\n",
       "      <td>38302034</td>\n",
       "      <td>3</td>\n",
       "      <td>99</td>\n",
       "      <td>2.948507</td>\n",
       "      <td>0</td>\n",
       "      <td>1.5</td>\n",
       "      <td>0.759394</td>\n",
       "      <td>1.5</td>\n",
       "      <td>NaN</td>\n",
       "      <td>NaN</td>\n",
       "      <td>...</td>\n",
       "      <td>23.0</td>\n",
       "      <td>45</td>\n",
       "      <td>102.0</td>\n",
       "      <td>133.0</td>\n",
       "      <td>29.0</td>\n",
       "      <td>88.0</td>\n",
       "      <td>39.0</td>\n",
       "      <td>48.0</td>\n",
       "      <td>1</td>\n",
       "      <td>0</td>\n",
       "    </tr>\n",
       "  </tbody>\n",
       "</table>\n",
       "<p>5 rows × 69 columns</p>\n",
       "</div>"
      ],
      "text/plain": [
       "    stay_id  sofa_score  age        los  gender  scr_min  mdrd_est  \\\n",
       "0  34216106           2   59   2.127222       1      0.6  1.071318   \n",
       "1  30150318           4   84   3.806713       0      0.9  0.789202   \n",
       "2  36105458           2   53  25.045949       1      0.7  1.093380   \n",
       "3  33668510           3   83   3.078576       1      0.8  1.010712   \n",
       "4  38302034           3   99   2.948507       0      1.5  0.759394   \n",
       "\n",
       "   scr_baseline  alt_min  alp_min  ...  bicarbonate_min  bun_max  \\\n",
       "0           0.6      NaN      NaN  ...             25.0       10   \n",
       "1           0.9     72.0     40.0  ...             19.0       40   \n",
       "2           0.7     21.0     57.0  ...             17.0       14   \n",
       "3           0.8      NaN      NaN  ...             22.0       30   \n",
       "4           1.5      NaN      NaN  ...             23.0       45   \n",
       "\n",
       "   chloride_max  heart_rate_max  resp_rate_max  sbp_min  dbp_min  mbp_min  \\\n",
       "0         110.0           112.0           29.0     82.5     30.5     55.5   \n",
       "1         106.0           118.0           27.0     92.0     41.0     58.0   \n",
       "2         113.0           112.0           29.0     87.0     54.0     67.0   \n",
       "3         107.0           108.0           37.0     71.0     31.0     49.0   \n",
       "4         102.0           133.0           29.0     88.0     39.0     48.0   \n",
       "\n",
       "   sic  dic  \n",
       "0    1    0  \n",
       "1    1    0  \n",
       "2    1    0  \n",
       "3    1    0  \n",
       "4    1    0  \n",
       "\n",
       "[5 rows x 69 columns]"
      ]
     },
     "execution_count": 2,
     "metadata": {},
     "output_type": "execute_result"
    }
   ],
   "source": [
    "df_raw = pd.read_csv(\"data/raw_data/20250207 null_sic_dic.csv\")\n",
    "df_raw.head()  "
   ]
  },
  {
   "cell_type": "code",
   "execution_count": 7,
   "metadata": {},
   "outputs": [
    {
     "data": {
      "text/plain": [
       "dic\n",
       "0    10441\n",
       "1      426\n",
       "Name: count, dtype: int64"
      ]
     },
     "execution_count": 7,
     "metadata": {},
     "output_type": "execute_result"
    }
   ],
   "source": [
    "df_raw[\"dic\"].value_counts()"
   ]
  },
  {
   "cell_type": "markdown",
   "metadata": {},
   "source": [
    "# 缺失值处理"
   ]
  },
  {
   "cell_type": "code",
   "execution_count": 4,
   "metadata": {},
   "outputs": [],
   "source": [
    "# 先看看有没有字符串类型的数值\n",
    "string_positions = df_raw.applymap(type).eq(str)\n",
    "\n",
    "# 获取包含字符串的具体位置（行和列）\n",
    "positions = string_positions[string_positions].stack()\n",
    "\n",
    "# 输出位置：行索引和列名\n",
    "for (row, col), _ in positions.items():\n",
    "    print(f\"字符串出现在行: {row}, 列: {col}\")"
   ]
  },
  {
   "cell_type": "code",
   "execution_count": 5,
   "metadata": {},
   "outputs": [
    {
     "data": {
      "text/plain": [
       "0"
      ]
     },
     "execution_count": 5,
     "metadata": {},
     "output_type": "execute_result"
    }
   ],
   "source": [
    "# 检测缺失比例大于 0.5 的特征（无）\n",
    "null_feq = df_raw.isnull().mean()>0.5\n",
    "null_feq.sum()"
   ]
  },
  {
   "cell_type": "code",
   "execution_count": 6,
   "metadata": {},
   "outputs": [
    {
     "name": "stdout",
     "output_type": "stream",
     "text": [
      "(10867, 69) (7923, 69)\n"
     ]
    }
   ],
   "source": [
    "# 统计每行缺失值的数量并删除缺失值大于 5个 的行\n",
    "df_cleaned = df_raw[df_raw.isnull().sum(axis=1) <= 5]\n",
    "print(df_raw.shape, df_cleaned.shape)"
   ]
  },
  {
   "cell_type": "code",
   "execution_count": 7,
   "metadata": {},
   "outputs": [
    {
     "data": {
      "text/plain": [
       "dic\n",
       "0    7526\n",
       "1     397\n",
       "Name: count, dtype: int64"
      ]
     },
     "execution_count": 7,
     "metadata": {},
     "output_type": "execute_result"
    }
   ],
   "source": [
    "df_cleaned[\"dic\"].value_counts()"
   ]
  },
  {
   "cell_type": "code",
   "execution_count": 15,
   "metadata": {},
   "outputs": [
    {
     "name": "stdout",
     "output_type": "stream",
     "text": [
      "['gender', 'ventilation', 'vasopressin', 'crrt', 'death', 'myocardial_infarct', 'congestive_heart_failure', 'peripheral_vascular_disease', 'cerebrovascular_disease', 'dementia', 'chronic_pulmonary_disease', 'rheumatic_disease', 'peptic_ulcer_disease', 'mild_liver_disease', 'diabetes_without_cc', 'diabetes_with_cc', 'paraplegia', 'renal_disease', 'malignant_cancer', 'severe_liver_disease', 'metastatic_solid_tumor', 'aids', 'sic', 'dic']\n",
      "['stay_id', 'sofa_score', 'age', 'los', 'scr_min', 'mdrd_est', 'scr_baseline', 'alt_min', 'alp_min', 'ast_min', 'sirs', 'lods', 'apsiii', 'wbc_max', 'basophils_abs_max', 'eosinophils_abs_min', 'lymphocytes_abs_min', 'monocytes_abs_min', 'neutrophils_abs_max', 'basophils_min', 'eosinophils_max', 'lymphocytes_min', 'monocytes_min', 'neutrophils_max', 'age_score', 'charlson_comorbidity_index', 'albumin_min', 'creatinine_max', 'sodium_min', 'inr_max', 'pt_max', 'ptt_max', 'hemoglobin_min', 'platelet_min', 'rbc_min', 'potassium_max', 'glucose_max', 'bicarbonate_min', 'bun_max', 'chloride_max', 'heart_rate_max', 'resp_rate_max', 'sbp_min', 'dbp_min', 'mbp_min']\n"
     ]
    }
   ],
   "source": [
    "# 设定阈值，比如非重复值个数少于一定数量时认为是分类变量\n",
    "threshold = 2 # 可根据实际需求调整\n",
    "\n",
    "# 自动提取列名，根据唯一值数量\n",
    "columns_by_unique_count = df_cleaned.nunique()  # 每列的唯一值个数\n",
    "categorical_cols = columns_by_unique_count[columns_by_unique_count <= threshold].index.tolist()\n",
    "continuous_cols = columns_by_unique_count[columns_by_unique_count > threshold].index.tolist()\n",
    "print(categorical_cols)\n",
    "print(continuous_cols)"
   ]
  },
  {
   "cell_type": "code",
   "execution_count": 16,
   "metadata": {},
   "outputs": [
    {
     "name": "stderr",
     "output_type": "stream",
     "text": [
      "/var/folders/qr/2y03gxbx72v657l4cp_f9lcc0000gp/T/ipykernel_94534/1583608775.py:1: SettingWithCopyWarning: \n",
      "A value is trying to be set on a copy of a slice from a DataFrame.\n",
      "Try using .loc[row_indexer,col_indexer] = value instead\n",
      "\n",
      "See the caveats in the documentation: https://pandas.pydata.org/pandas-docs/stable/user_guide/indexing.html#returning-a-view-versus-a-copy\n",
      "  df_cleaned[categorical_cols] = df_cleaned[categorical_cols].fillna(0)\n",
      "/var/folders/qr/2y03gxbx72v657l4cp_f9lcc0000gp/T/ipykernel_94534/1583608775.py:2: SettingWithCopyWarning: \n",
      "A value is trying to be set on a copy of a slice from a DataFrame.\n",
      "Try using .loc[row_indexer,col_indexer] = value instead\n",
      "\n",
      "See the caveats in the documentation: https://pandas.pydata.org/pandas-docs/stable/user_guide/indexing.html#returning-a-view-versus-a-copy\n",
      "  df_cleaned[continuous_cols] = df_cleaned.groupby('dic')[continuous_cols].transform(lambda x: x.fillna(x.mean()))\n"
     ]
    }
   ],
   "source": [
    "df_cleaned[categorical_cols] = df_cleaned[categorical_cols].fillna(0)\n",
    "df_cleaned[continuous_cols] = df_cleaned.groupby('dic')[continuous_cols].transform(lambda x: x.fillna(x.mean()))"
   ]
  },
  {
   "cell_type": "code",
   "execution_count": null,
   "metadata": {},
   "outputs": [],
   "source": [
    "#df_cleaned.to_csv(\"data/清洗后.csv\", index=False)"
   ]
  },
  {
   "cell_type": "markdown",
   "metadata": {},
   "source": [
    "# 分割"
   ]
  },
  {
   "cell_type": "code",
   "execution_count": null,
   "metadata": {},
   "outputs": [
    {
     "name": "stdout",
     "output_type": "stream",
     "text": [
      "训练集的大小： (6338, 69)\n",
      "验证集的大小： (1585, 69)\n"
     ]
    }
   ],
   "source": [
    "import pandas as pd\n",
    "from sklearn.model_selection import train_test_split\n",
    "\n",
    "# 进行 8:2 的数据集分割，保持 dic 列的比例一致\n",
    "train_df, test_df = train_test_split(df_cleaned, test_size=0.2, stratify=df_cleaned['dic'], random_state=42)\n",
    "\n",
    "# 输出结果\n",
    "print(\"训练集的大小：\", train_df.shape)\n",
    "print(\"测试集的大小：\", test_df.shape)\n",
    "\n",
    "# 可以选择保存分割后的数据集\n",
    "train_df.to_csv(\"./data/归一前_train_data.csv\", index=False)\n",
    "test_df.to_csv(\"./data/归一前_test_data.csv\", index=False)"
   ]
  },
  {
   "cell_type": "markdown",
   "metadata": {},
   "source": [
    "# 标准化"
   ]
  },
  {
   "cell_type": "code",
   "execution_count": 16,
   "metadata": {},
   "outputs": [
    {
     "name": "stdout",
     "output_type": "stream",
     "text": [
      "['gender', 'ventilation', 'vasopressin', 'crrt', 'death', 'myocardial_infarct', 'congestive_heart_failure', 'peripheral_vascular_disease', 'cerebrovascular_disease', 'dementia', 'chronic_pulmonary_disease', 'rheumatic_disease', 'peptic_ulcer_disease', 'mild_liver_disease', 'diabetes_without_cc', 'diabetes_with_cc', 'paraplegia', 'renal_disease', 'malignant_cancer', 'severe_liver_disease', 'metastatic_solid_tumor', 'aids', 'sic', 'dic']\n",
      "['stay_id', 'sofa_score', 'age', 'los', 'scr_min', 'mdrd_est', 'scr_baseline', 'alt_min', 'alp_min', 'ast_min', 'sirs', 'lods', 'apsiii', 'wbc_max', 'basophils_abs_max', 'eosinophils_abs_min', 'lymphocytes_abs_min', 'monocytes_abs_min', 'neutrophils_abs_max', 'basophils_min', 'eosinophils_max', 'lymphocytes_min', 'monocytes_min', 'neutrophils_max', 'age_score', 'charlson_comorbidity_index', 'albumin_min', 'creatinine_max', 'sodium_min', 'inr_max', 'pt_max', 'ptt_max', 'hemoglobin_min', 'platelet_min', 'rbc_min', 'potassium_max', 'glucose_max', 'bicarbonate_min', 'bun_max', 'chloride_max', 'heart_rate_max', 'resp_rate_max', 'sbp_min', 'dbp_min', 'mbp_min']\n"
     ]
    }
   ],
   "source": [
    "from sklearn.preprocessing import StandardScaler\n",
    "\n",
    "#threshold = 2  # 可根据实际需求调整\n",
    "#columns_by_unique_count = df_cleaned.nunique()  # 每列的唯一值个数\n",
    "#categorical_cols = columns_by_unique_count[columns_by_unique_count <= threshold].index.tolist()\n",
    "#continuous_cols = columns_by_unique_count[columns_by_unique_count > threshold].index.tolist()\n",
    "print(categorical_cols)\n",
    "print(continuous_cols)\n",
    "\n",
    "scaler = StandardScaler()\n",
    "train_df[continuous_cols] = scaler.fit_transform(train_df[continuous_cols])\n",
    "\n",
    "# 使用训练集的标准化参数（均值和标准差）来转换测试集\n",
    "test_df[continuous_cols] = scaler.transform(test_df[continuous_cols])\n",
    "\n",
    "train_df.to_csv(\"./data/train_data_standardized.csv\", index=False)\n",
    "test_df.to_csv(\"./data/test_data_standardized.csv\", index=False)"
   ]
  }
 ],
 "metadata": {
  "kernelspec": {
   "display_name": "base",
   "language": "python",
   "name": "python3"
  },
  "language_info": {
   "codemirror_mode": {
    "name": "ipython",
    "version": 3
   },
   "file_extension": ".py",
   "mimetype": "text/x-python",
   "name": "python",
   "nbconvert_exporter": "python",
   "pygments_lexer": "ipython3",
   "version": "3.10.11"
  }
 },
 "nbformat": 4,
 "nbformat_minor": 2
}
